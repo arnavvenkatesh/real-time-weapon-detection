{
 "cells": [
  {
   "cell_type": "markdown",
   "id": "12f0d03c",
   "metadata": {},
   "source": [
    "### IMPORTING THE LIBRARIES"
   ]
  },
  {
   "cell_type": "code",
   "execution_count": 1,
   "id": "dad9bcb9",
   "metadata": {},
   "outputs": [],
   "source": [
    "import numpy as np\n",
    "import cv2\n",
    "import imutils\n",
    "import datetime"
   ]
  },
  {
   "cell_type": "markdown",
   "id": "461117ec",
   "metadata": {},
   "source": [
    "### CODE for DETECTING THE WEAPON"
   ]
  },
  {
   "cell_type": "code",
   "execution_count": null,
   "id": "1ef0eab0",
   "metadata": {},
   "outputs": [],
   "source": [
    "gun_cascade = cv2.CascadeClassifier('cascade.xml')\n",
    "camera = cv2.VideoCapture(0)\n",
    "   \n",
    "firstFrame = None\n",
    "gun_is_present = False\n",
    "   \n",
    "while True:\n",
    "      \n",
    "    ret, frame = camera.read()\n",
    "   \n",
    "    frame = imutils.resize(frame, width = 500)\n",
    "    gray = cv2.cvtColor(frame, cv2.COLOR_BGR2GRAY)\n",
    "       \n",
    "    gun = gun_cascade.detectMultiScale(gray,\n",
    "                                       1.3, 5,\n",
    "                                       minSize = (100, 100))\n",
    "       \n",
    "    if len(gun) > 0:\n",
    "        gun_is_present = True\n",
    "           \n",
    "    for (x, y, w, h) in gun:\n",
    "          \n",
    "        frame = cv2.rectangle(frame,\n",
    "                              (x, y),\n",
    "                              (x + w, y + h),\n",
    "                              (255, 0, 0), 2)\n",
    "        roi_gray = gray[y:y + h, x:x + w]\n",
    "        roi_color = frame[y:y + h, x:x + w]    \n",
    "   \n",
    "    if firstFrame is None:\n",
    "        firstFrame = gray\n",
    "        continue\n",
    "        cv2.putText(frame, datetime.datetime.now().strftime(\"% A % d % B % Y % I:% M:% S % p\"),\n",
    "                (10, frame.shape[0] - 10),\n",
    "                cv2.FONT_HERSHEY_TRIPLEX,\n",
    "                0.35, (0, 0, 255), 1)\n",
    "   \n",
    "    cv2.imshow(\"GUN DETECTOR\", frame)\n",
    "    key = cv2.waitKey(1) & 0xFF\n",
    "    if key == ord('q'):\n",
    "        break\n",
    "        if gun_is_present:\n",
    "            print(\"GUN IS PRESENT\")\n",
    "        else:\n",
    "            print(\"GUN IS NOT PRESENT\")\n",
    "  \n",
    "camera.release()\n",
    "cv2.waitKey(0)\n",
    "cv2.destroyAllWindows()"
   ]
  }
 ],
 "metadata": {
  "kernelspec": {
   "display_name": "Python 3 (ipykernel)",
   "language": "python",
   "name": "python3"
  },
  "language_info": {
   "codemirror_mode": {
    "name": "ipython",
    "version": 3
   },
   "file_extension": ".py",
   "mimetype": "text/x-python",
   "name": "python",
   "nbconvert_exporter": "python",
   "pygments_lexer": "ipython3",
   "version": "3.9.12"
  }
 },
 "nbformat": 4,
 "nbformat_minor": 5
}
